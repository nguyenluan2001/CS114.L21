{
  "nbformat": 4,
  "nbformat_minor": 0,
  "metadata": {
    "colab": {
      "name": "Du_Doan_Diem_Thi.ipynb",
      "provenance": [],
      "collapsed_sections": []
    },
    "kernelspec": {
      "name": "python3",
      "display_name": "Python 3"
    },
    "language_info": {
      "name": "python"
    }
  },
  "cells": [
    {
      "cell_type": "markdown",
      "metadata": {
        "id": "67EdvNe-DytB"
      },
      "source": [
        "#Bắt đầu làm:"
      ]
    },
    {
      "cell_type": "code",
      "metadata": {
        "id": "oEGharreeBbf",
        "colab": {
          "base_uri": "https://localhost:8080/"
        },
        "outputId": "4a84f80d-3ce8-4f02-c26a-6cab01b0cd5a"
      },
      "source": [
        "## file wecode\n",
        "!gdown --id 1NkcKJyW8XpvaKDZlG-HRCY4igmL1ZSGF\n",
        "## file score\n",
        "!gdown --id 1JFZZRDMWNWWWxzkTWzoJI1v8XC7GTZfO"
      ],
      "execution_count": null,
      "outputs": [
        {
          "output_type": "stream",
          "text": [
            "Downloading...\n",
            "From: https://drive.google.com/uc?id=1NkcKJyW8XpvaKDZlG-HRCY4igmL1ZSGF\n",
            "To: /content/wecode.csv\n",
            "30.8MB [00:00, 73.4MB/s]\n",
            "Downloading...\n",
            "From: https://drive.google.com/uc?id=1JFZZRDMWNWWWxzkTWzoJI1v8XC7GTZfO\n",
            "To: /content/score_training.csv\n",
            "100% 23.9k/23.9k [00:00<00:00, 20.5MB/s]\n"
          ],
          "name": "stdout"
        }
      ]
    },
    {
      "cell_type": "code",
      "metadata": {
        "id": "Jl0L2F24eCQc",
        "colab": {
          "base_uri": "https://localhost:8080/"
        },
        "outputId": "bf9c67aa-ae60-41e7-c297-41a68072a94a"
      },
      "source": [
        "import pandas as pd\n",
        "import numpy as np\n",
        "import matplotlib.pyplot as plt\n",
        "\n",
        "data = pd.read_csv(\"/content/wecode.csv\")\n",
        "score = pd.read_csv('/content/score_training.csv')\n",
        "score[\"CK\"] = pd.to_numeric(score[\"CK\"],errors = 'coerce') # convert object -> float64\n",
        "score.info()"
      ],
      "execution_count": null,
      "outputs": [
        {
          "output_type": "stream",
          "text": [
            "<class 'pandas.core.frame.DataFrame'>\n",
            "RangeIndex: 975 entries, 0 to 974\n",
            "Data columns (total 7 columns):\n",
            " #   Column  Non-Null Count  Dtype  \n",
            "---  ------  --------------  -----  \n",
            " 0   id      975 non-null    int64  \n",
            " 1   QT      973 non-null    object \n",
            " 2   GK      974 non-null    object \n",
            " 3   TH      974 non-null    object \n",
            " 4   CK      920 non-null    float64\n",
            " 5   TBM     974 non-null    object \n",
            " 6   TBTL    974 non-null    object \n",
            "dtypes: float64(1), int64(1), object(5)\n",
            "memory usage: 53.4+ KB\n"
          ],
          "name": "stdout"
        }
      ]
    },
    {
      "cell_type": "code",
      "metadata": {
        "id": "vfGo0osx7OeI"
      },
      "source": [
        "# lấy cột user_id\n",
        "train = pd.DataFrame(np.sort(data.user_id.unique()), columns= ['user_id'])"
      ],
      "execution_count": null,
      "outputs": []
    },
    {
      "cell_type": "code",
      "metadata": {
        "id": "edTrQ-ef8iNr"
      },
      "source": [
        "# Tổng pre_score của các submssion có is_final = 1\n",
        "\n",
        "d = data[data.is_final == 1].groupby(['user_id'], as_index= False)[['pre_score']].sum()\n",
        "\n",
        "train = train.merge(d,on=\"user_id\")\n",
        "\n"
      ],
      "execution_count": null,
      "outputs": []
    },
    {
      "cell_type": "code",
      "metadata": {
        "colab": {
          "base_uri": "https://localhost:8080/"
        },
        "id": "T-fU3avRmtzW",
        "outputId": "8ebde871-c8be-4c65-b0c2-c37e80542f9d"
      },
      "source": [
        "wecode_data_new = data\n",
        "\n",
        "# Hàm kiểm tra code đã solved chưa\n",
        "def checkSolved(data):\n",
        "  if (data['is_final'] == 1) and (data['pre_score'] == 10000):\n",
        "    return 1\n",
        "  return 0\n",
        "wecode_data_new['solved'] = wecode_data_new.apply(checkSolved, axis=1)\n",
        "groupByUserID = wecode_data_new.groupby(by='user_id', sort = True)\n",
        "problem_solved= groupByUserID['solved'].apply(lambda x: (x==1).sum())\n",
        "number_of_submissions = len(wecode_data_new)\n",
        "\n",
        "# Tổng số problem đã solved (is_final = 1 && pre_score=10000) / Tổng số problem có submit\n",
        "index_1 = problem_solved / number_of_submissions\n",
        "print(index_1)\n",
        "\n",
        "# merge vô train\n",
        "d = index_1\n",
        "train = train.merge(d,on=\"user_id\")"
      ],
      "execution_count": null,
      "outputs": [
        {
          "output_type": "stream",
          "text": [
            "user_id\n",
            "1       0.000004\n",
            "4       0.000140\n",
            "5       0.000011\n",
            "6       0.000321\n",
            "7       0.000000\n",
            "          ...   \n",
            "1860    0.000106\n",
            "1862    0.000015\n",
            "1864    0.000106\n",
            "1865    0.000038\n",
            "1868    0.000102\n",
            "Name: solved, Length: 1159, dtype: float64\n"
          ],
          "name": "stdout"
        }
      ]
    },
    {
      "cell_type": "code",
      "metadata": {
        "id": "RSBVWfq1mvlx"
      },
      "source": [
        "# Tổng số problem đã sumbit / Tổng số submissions \n",
        "problem_tries= groupByUserID['problem_id'].nunique()\n",
        "number_of_submissions = len(wecode_data_new)\n",
        "index_2=problem_tries/number_of_submissions\n",
        "\n",
        "# merge vô train \n",
        "d = index_2\n",
        "train = train.merge(d,on=\"user_id\")\n"
      ],
      "execution_count": null,
      "outputs": []
    },
    {
      "cell_type": "code",
      "metadata": {
        "id": "9bxoLoONo5sq"
      },
      "source": [
        "train.columns = [\"user_id\",\"A1\",\"A2\",\"A3\"]\n"
      ],
      "execution_count": null,
      "outputs": []
    },
    {
      "cell_type": "markdown",
      "metadata": {
        "id": "7Tmv8c_PrEYf"
      },
      "source": [
        "- A1: Tổng pre_score của các submssion có is_final = 1\n",
        "- A2: Tổng số problem đã solved (is_final = 1 && pre_score=10000) / Tổng số problem có submit\n",
        "- A3: Tổng số problem đã sumbit / Tổng số submissions \n",
        "- A4:"
      ]
    },
    {
      "cell_type": "code",
      "metadata": {
        "colab": {
          "base_uri": "https://localhost:8080/"
        },
        "id": "4Li7EsCx5yYf",
        "outputId": "cdb6191e-9ecf-4464-cf08-88e6d4dd412d"
      },
      "source": [
        "train.info()"
      ],
      "execution_count": null,
      "outputs": [
        {
          "output_type": "stream",
          "text": [
            "<class 'pandas.core.frame.DataFrame'>\n",
            "Int64Index: 1157 entries, 0 to 1156\n",
            "Data columns (total 4 columns):\n",
            " #   Column   Non-Null Count  Dtype  \n",
            "---  ------   --------------  -----  \n",
            " 0   user_id  1157 non-null   int64  \n",
            " 1   A1       1157 non-null   int64  \n",
            " 2   A2       1157 non-null   float64\n",
            " 3   A3       1157 non-null   float64\n",
            "dtypes: float64(2), int64(2)\n",
            "memory usage: 45.2 KB\n"
          ],
          "name": "stdout"
        }
      ]
    },
    {
      "cell_type": "code",
      "metadata": {
        "colab": {
          "base_uri": "https://localhost:8080/"
        },
        "id": "dU1DXbSU7vFl",
        "outputId": "b83f2aca-d551-43af-9815-2ac98d9ce61b"
      },
      "source": [
        "m = score[[\"id\",\"CK\"]]\n",
        "m.columns = [\"user_id\",\"CK\"]\n",
        "train = train.merge(m,how = \"left\",on=\"user_id\")\n",
        "m.info()\n",
        "train.info()"
      ],
      "execution_count": null,
      "outputs": [
        {
          "output_type": "stream",
          "text": [
            "<class 'pandas.core.frame.DataFrame'>\n",
            "RangeIndex: 975 entries, 0 to 974\n",
            "Data columns (total 2 columns):\n",
            " #   Column   Non-Null Count  Dtype  \n",
            "---  ------   --------------  -----  \n",
            " 0   user_id  975 non-null    int64  \n",
            " 1   CK       920 non-null    float64\n",
            "dtypes: float64(1), int64(1)\n",
            "memory usage: 15.4 KB\n",
            "<class 'pandas.core.frame.DataFrame'>\n",
            "Int64Index: 1157 entries, 0 to 1156\n",
            "Data columns (total 5 columns):\n",
            " #   Column   Non-Null Count  Dtype  \n",
            "---  ------   --------------  -----  \n",
            " 0   user_id  1157 non-null   int64  \n",
            " 1   A1       1157 non-null   int64  \n",
            " 2   A2       1157 non-null   float64\n",
            " 3   A3       1157 non-null   float64\n",
            " 4   CK       805 non-null    float64\n",
            "dtypes: float64(3), int64(2)\n",
            "memory usage: 54.2 KB\n"
          ],
          "name": "stdout"
        }
      ]
    },
    {
      "cell_type": "code",
      "metadata": {
        "colab": {
          "base_uri": "https://localhost:8080/",
          "height": 419
        },
        "id": "_aegAcrL7LUO",
        "outputId": "ce0dc974-8d39-4311-dcff-b6fb8b00dd34"
      },
      "source": [
        "data_train = train.loc[ train.CK.notnull()]\n",
        "data_train\n"
      ],
      "execution_count": null,
      "outputs": [
        {
          "output_type": "execute_result",
          "data": {
            "text/html": [
              "<div>\n",
              "<style scoped>\n",
              "    .dataframe tbody tr th:only-of-type {\n",
              "        vertical-align: middle;\n",
              "    }\n",
              "\n",
              "    .dataframe tbody tr th {\n",
              "        vertical-align: top;\n",
              "    }\n",
              "\n",
              "    .dataframe thead th {\n",
              "        text-align: right;\n",
              "    }\n",
              "</style>\n",
              "<table border=\"1\" class=\"dataframe\">\n",
              "  <thead>\n",
              "    <tr style=\"text-align: right;\">\n",
              "      <th></th>\n",
              "      <th>user_id</th>\n",
              "      <th>A1</th>\n",
              "      <th>A2</th>\n",
              "      <th>A3</th>\n",
              "      <th>CK</th>\n",
              "    </tr>\n",
              "  </thead>\n",
              "  <tbody>\n",
              "    <tr>\n",
              "      <th>9</th>\n",
              "      <td>24</td>\n",
              "      <td>750299</td>\n",
              "      <td>0.000272</td>\n",
              "      <td>0.000295</td>\n",
              "      <td>9.5</td>\n",
              "    </tr>\n",
              "    <tr>\n",
              "      <th>10</th>\n",
              "      <td>27</td>\n",
              "      <td>39000</td>\n",
              "      <td>0.000011</td>\n",
              "      <td>0.000019</td>\n",
              "      <td>10.0</td>\n",
              "    </tr>\n",
              "    <tr>\n",
              "      <th>11</th>\n",
              "      <td>29</td>\n",
              "      <td>762760</td>\n",
              "      <td>0.000272</td>\n",
              "      <td>0.000302</td>\n",
              "      <td>8.5</td>\n",
              "    </tr>\n",
              "    <tr>\n",
              "      <th>13</th>\n",
              "      <td>34</td>\n",
              "      <td>822888</td>\n",
              "      <td>0.000306</td>\n",
              "      <td>0.000317</td>\n",
              "      <td>6.5</td>\n",
              "    </tr>\n",
              "    <tr>\n",
              "      <th>14</th>\n",
              "      <td>35</td>\n",
              "      <td>1477000</td>\n",
              "      <td>0.000548</td>\n",
              "      <td>0.000556</td>\n",
              "      <td>4.5</td>\n",
              "    </tr>\n",
              "    <tr>\n",
              "      <th>...</th>\n",
              "      <td>...</td>\n",
              "      <td>...</td>\n",
              "      <td>...</td>\n",
              "      <td>...</td>\n",
              "      <td>...</td>\n",
              "    </tr>\n",
              "    <tr>\n",
              "      <th>1149</th>\n",
              "      <td>1856</td>\n",
              "      <td>270790</td>\n",
              "      <td>0.000087</td>\n",
              "      <td>0.000117</td>\n",
              "      <td>7.5</td>\n",
              "    </tr>\n",
              "    <tr>\n",
              "      <th>1150</th>\n",
              "      <td>1857</td>\n",
              "      <td>386000</td>\n",
              "      <td>0.000140</td>\n",
              "      <td>0.000128</td>\n",
              "      <td>4.0</td>\n",
              "    </tr>\n",
              "    <tr>\n",
              "      <th>1151</th>\n",
              "      <td>1859</td>\n",
              "      <td>39000</td>\n",
              "      <td>0.000011</td>\n",
              "      <td>0.000102</td>\n",
              "      <td>1.5</td>\n",
              "    </tr>\n",
              "    <tr>\n",
              "      <th>1153</th>\n",
              "      <td>1862</td>\n",
              "      <td>40000</td>\n",
              "      <td>0.000015</td>\n",
              "      <td>0.000023</td>\n",
              "      <td>7.5</td>\n",
              "    </tr>\n",
              "    <tr>\n",
              "      <th>1155</th>\n",
              "      <td>1865</td>\n",
              "      <td>116428</td>\n",
              "      <td>0.000038</td>\n",
              "      <td>0.000064</td>\n",
              "      <td>7.5</td>\n",
              "    </tr>\n",
              "  </tbody>\n",
              "</table>\n",
              "<p>805 rows × 5 columns</p>\n",
              "</div>"
            ],
            "text/plain": [
              "      user_id       A1        A2        A3    CK\n",
              "9          24   750299  0.000272  0.000295   9.5\n",
              "10         27    39000  0.000011  0.000019  10.0\n",
              "11         29   762760  0.000272  0.000302   8.5\n",
              "13         34   822888  0.000306  0.000317   6.5\n",
              "14         35  1477000  0.000548  0.000556   4.5\n",
              "...       ...      ...       ...       ...   ...\n",
              "1149     1856   270790  0.000087  0.000117   7.5\n",
              "1150     1857   386000  0.000140  0.000128   4.0\n",
              "1151     1859    39000  0.000011  0.000102   1.5\n",
              "1153     1862    40000  0.000015  0.000023   7.5\n",
              "1155     1865   116428  0.000038  0.000064   7.5\n",
              "\n",
              "[805 rows x 5 columns]"
            ]
          },
          "metadata": {
            "tags": []
          },
          "execution_count": 159
        }
      ]
    },
    {
      "cell_type": "code",
      "metadata": {
        "id": "6dFhX_XJ8o7v"
      },
      "source": [
        "x_train = data_train.drop(columns=['CK','user_id'], axis = 1)\n",
        "y_train = data_train[[\"CK\"]]"
      ],
      "execution_count": null,
      "outputs": []
    },
    {
      "cell_type": "code",
      "metadata": {
        "colab": {
          "base_uri": "https://localhost:8080/"
        },
        "id": "zpsZmfdC9Wpm",
        "outputId": "8d85c308-eb5b-40d0-d171-579068281ca7"
      },
      "source": [
        "data_train.info()"
      ],
      "execution_count": null,
      "outputs": [
        {
          "output_type": "stream",
          "text": [
            "<class 'pandas.core.frame.DataFrame'>\n",
            "Int64Index: 805 entries, 9 to 1155\n",
            "Data columns (total 5 columns):\n",
            " #   Column   Non-Null Count  Dtype  \n",
            "---  ------   --------------  -----  \n",
            " 0   user_id  805 non-null    int64  \n",
            " 1   A1       805 non-null    int64  \n",
            " 2   A2       805 non-null    float64\n",
            " 3   A3       805 non-null    float64\n",
            " 4   CK       805 non-null    float64\n",
            "dtypes: float64(3), int64(2)\n",
            "memory usage: 37.7 KB\n"
          ],
          "name": "stdout"
        }
      ]
    },
    {
      "cell_type": "code",
      "metadata": {
        "colab": {
          "base_uri": "https://localhost:8080/",
          "height": 419
        },
        "id": "YCRPDt2I9KMC",
        "outputId": "3cdd1971-2bec-4216-bbb1-53e452f9de8d"
      },
      "source": [
        "x_train"
      ],
      "execution_count": null,
      "outputs": [
        {
          "output_type": "execute_result",
          "data": {
            "text/html": [
              "<div>\n",
              "<style scoped>\n",
              "    .dataframe tbody tr th:only-of-type {\n",
              "        vertical-align: middle;\n",
              "    }\n",
              "\n",
              "    .dataframe tbody tr th {\n",
              "        vertical-align: top;\n",
              "    }\n",
              "\n",
              "    .dataframe thead th {\n",
              "        text-align: right;\n",
              "    }\n",
              "</style>\n",
              "<table border=\"1\" class=\"dataframe\">\n",
              "  <thead>\n",
              "    <tr style=\"text-align: right;\">\n",
              "      <th></th>\n",
              "      <th>A1</th>\n",
              "      <th>A2</th>\n",
              "      <th>A3</th>\n",
              "    </tr>\n",
              "  </thead>\n",
              "  <tbody>\n",
              "    <tr>\n",
              "      <th>9</th>\n",
              "      <td>750299</td>\n",
              "      <td>0.000272</td>\n",
              "      <td>0.000295</td>\n",
              "    </tr>\n",
              "    <tr>\n",
              "      <th>10</th>\n",
              "      <td>39000</td>\n",
              "      <td>0.000011</td>\n",
              "      <td>0.000019</td>\n",
              "    </tr>\n",
              "    <tr>\n",
              "      <th>11</th>\n",
              "      <td>762760</td>\n",
              "      <td>0.000272</td>\n",
              "      <td>0.000302</td>\n",
              "    </tr>\n",
              "    <tr>\n",
              "      <th>13</th>\n",
              "      <td>822888</td>\n",
              "      <td>0.000306</td>\n",
              "      <td>0.000317</td>\n",
              "    </tr>\n",
              "    <tr>\n",
              "      <th>14</th>\n",
              "      <td>1477000</td>\n",
              "      <td>0.000548</td>\n",
              "      <td>0.000556</td>\n",
              "    </tr>\n",
              "    <tr>\n",
              "      <th>...</th>\n",
              "      <td>...</td>\n",
              "      <td>...</td>\n",
              "      <td>...</td>\n",
              "    </tr>\n",
              "    <tr>\n",
              "      <th>1149</th>\n",
              "      <td>270790</td>\n",
              "      <td>0.000087</td>\n",
              "      <td>0.000117</td>\n",
              "    </tr>\n",
              "    <tr>\n",
              "      <th>1150</th>\n",
              "      <td>386000</td>\n",
              "      <td>0.000140</td>\n",
              "      <td>0.000128</td>\n",
              "    </tr>\n",
              "    <tr>\n",
              "      <th>1151</th>\n",
              "      <td>39000</td>\n",
              "      <td>0.000011</td>\n",
              "      <td>0.000102</td>\n",
              "    </tr>\n",
              "    <tr>\n",
              "      <th>1153</th>\n",
              "      <td>40000</td>\n",
              "      <td>0.000015</td>\n",
              "      <td>0.000023</td>\n",
              "    </tr>\n",
              "    <tr>\n",
              "      <th>1155</th>\n",
              "      <td>116428</td>\n",
              "      <td>0.000038</td>\n",
              "      <td>0.000064</td>\n",
              "    </tr>\n",
              "  </tbody>\n",
              "</table>\n",
              "<p>805 rows × 3 columns</p>\n",
              "</div>"
            ],
            "text/plain": [
              "           A1        A2        A3\n",
              "9      750299  0.000272  0.000295\n",
              "10      39000  0.000011  0.000019\n",
              "11     762760  0.000272  0.000302\n",
              "13     822888  0.000306  0.000317\n",
              "14    1477000  0.000548  0.000556\n",
              "...       ...       ...       ...\n",
              "1149   270790  0.000087  0.000117\n",
              "1150   386000  0.000140  0.000128\n",
              "1151    39000  0.000011  0.000102\n",
              "1153    40000  0.000015  0.000023\n",
              "1155   116428  0.000038  0.000064\n",
              "\n",
              "[805 rows x 3 columns]"
            ]
          },
          "metadata": {
            "tags": []
          },
          "execution_count": 162
        }
      ]
    },
    {
      "cell_type": "code",
      "metadata": {
        "colab": {
          "base_uri": "https://localhost:8080/",
          "height": 419
        },
        "id": "s4B4UUWf9Lbs",
        "outputId": "9ee35482-b64d-4801-c8d0-5d3ae6a9b190"
      },
      "source": [
        "y_train"
      ],
      "execution_count": null,
      "outputs": [
        {
          "output_type": "execute_result",
          "data": {
            "text/html": [
              "<div>\n",
              "<style scoped>\n",
              "    .dataframe tbody tr th:only-of-type {\n",
              "        vertical-align: middle;\n",
              "    }\n",
              "\n",
              "    .dataframe tbody tr th {\n",
              "        vertical-align: top;\n",
              "    }\n",
              "\n",
              "    .dataframe thead th {\n",
              "        text-align: right;\n",
              "    }\n",
              "</style>\n",
              "<table border=\"1\" class=\"dataframe\">\n",
              "  <thead>\n",
              "    <tr style=\"text-align: right;\">\n",
              "      <th></th>\n",
              "      <th>CK</th>\n",
              "    </tr>\n",
              "  </thead>\n",
              "  <tbody>\n",
              "    <tr>\n",
              "      <th>9</th>\n",
              "      <td>9.5</td>\n",
              "    </tr>\n",
              "    <tr>\n",
              "      <th>10</th>\n",
              "      <td>10.0</td>\n",
              "    </tr>\n",
              "    <tr>\n",
              "      <th>11</th>\n",
              "      <td>8.5</td>\n",
              "    </tr>\n",
              "    <tr>\n",
              "      <th>13</th>\n",
              "      <td>6.5</td>\n",
              "    </tr>\n",
              "    <tr>\n",
              "      <th>14</th>\n",
              "      <td>4.5</td>\n",
              "    </tr>\n",
              "    <tr>\n",
              "      <th>...</th>\n",
              "      <td>...</td>\n",
              "    </tr>\n",
              "    <tr>\n",
              "      <th>1149</th>\n",
              "      <td>7.5</td>\n",
              "    </tr>\n",
              "    <tr>\n",
              "      <th>1150</th>\n",
              "      <td>4.0</td>\n",
              "    </tr>\n",
              "    <tr>\n",
              "      <th>1151</th>\n",
              "      <td>1.5</td>\n",
              "    </tr>\n",
              "    <tr>\n",
              "      <th>1153</th>\n",
              "      <td>7.5</td>\n",
              "    </tr>\n",
              "    <tr>\n",
              "      <th>1155</th>\n",
              "      <td>7.5</td>\n",
              "    </tr>\n",
              "  </tbody>\n",
              "</table>\n",
              "<p>805 rows × 1 columns</p>\n",
              "</div>"
            ],
            "text/plain": [
              "        CK\n",
              "9      9.5\n",
              "10    10.0\n",
              "11     8.5\n",
              "13     6.5\n",
              "14     4.5\n",
              "...    ...\n",
              "1149   7.5\n",
              "1150   4.0\n",
              "1151   1.5\n",
              "1153   7.5\n",
              "1155   7.5\n",
              "\n",
              "[805 rows x 1 columns]"
            ]
          },
          "metadata": {
            "tags": []
          },
          "execution_count": 163
        }
      ]
    },
    {
      "cell_type": "code",
      "metadata": {
        "id": "rNytPV4E8gb5"
      },
      "source": [
        "from sklearn.linear_model import LinearRegression\n",
        "\n",
        "model = LinearRegression().fit(x_train, y_train)\n"
      ],
      "execution_count": null,
      "outputs": []
    },
    {
      "cell_type": "code",
      "metadata": {
        "id": "ypZsN18-907W"
      },
      "source": [
        "data_test = train.loc[ train.CK.isnull()]\n",
        "x_test = data_test.drop(columns=['CK','user_id'], axis = 1)\n",
        "\n"
      ],
      "execution_count": null,
      "outputs": []
    },
    {
      "cell_type": "code",
      "metadata": {
        "id": "-bcBr7ZC-bN-"
      },
      "source": [
        "y_pred = model.predict(x_test)"
      ],
      "execution_count": null,
      "outputs": []
    },
    {
      "cell_type": "code",
      "metadata": {
        "colab": {
          "base_uri": "https://localhost:8080/"
        },
        "id": "_lCCvFp0-kga",
        "outputId": "cb9efe3f-427c-464e-82cc-970c44edca4d"
      },
      "source": [
        "table_pred =pd.DataFrame(data_test['user_id'], columns=['user_id'])\n",
        "table_pred['CK'] = y_pred\n",
        "table_pred.shape"
      ],
      "execution_count": null,
      "outputs": [
        {
          "output_type": "execute_result",
          "data": {
            "text/plain": [
              "(352, 2)"
            ]
          },
          "metadata": {
            "tags": []
          },
          "execution_count": 167
        }
      ]
    },
    {
      "cell_type": "code",
      "metadata": {
        "id": "7N_R01nK_I1M"
      },
      "source": [
        "table_pred.index = np.arange(0,len(table_pred))"
      ],
      "execution_count": null,
      "outputs": []
    },
    {
      "cell_type": "code",
      "metadata": {
        "colab": {
          "base_uri": "https://localhost:8080/",
          "height": 419
        },
        "id": "rq_Px9kXAGJJ",
        "outputId": "8e3a52e1-bda5-4efa-dc5b-a7df05b3c20c"
      },
      "source": [
        "table_pred"
      ],
      "execution_count": null,
      "outputs": [
        {
          "output_type": "execute_result",
          "data": {
            "text/html": [
              "<div>\n",
              "<style scoped>\n",
              "    .dataframe tbody tr th:only-of-type {\n",
              "        vertical-align: middle;\n",
              "    }\n",
              "\n",
              "    .dataframe tbody tr th {\n",
              "        vertical-align: top;\n",
              "    }\n",
              "\n",
              "    .dataframe thead th {\n",
              "        text-align: right;\n",
              "    }\n",
              "</style>\n",
              "<table border=\"1\" class=\"dataframe\">\n",
              "  <thead>\n",
              "    <tr style=\"text-align: right;\">\n",
              "      <th></th>\n",
              "      <th>user_id</th>\n",
              "      <th>CK</th>\n",
              "    </tr>\n",
              "  </thead>\n",
              "  <tbody>\n",
              "    <tr>\n",
              "      <th>0</th>\n",
              "      <td>1</td>\n",
              "      <td>5.120698</td>\n",
              "    </tr>\n",
              "    <tr>\n",
              "      <th>1</th>\n",
              "      <td>4</td>\n",
              "      <td>5.385555</td>\n",
              "    </tr>\n",
              "    <tr>\n",
              "      <th>2</th>\n",
              "      <td>5</td>\n",
              "      <td>5.119290</td>\n",
              "    </tr>\n",
              "    <tr>\n",
              "      <th>3</th>\n",
              "      <td>6</td>\n",
              "      <td>5.835433</td>\n",
              "    </tr>\n",
              "    <tr>\n",
              "      <th>4</th>\n",
              "      <td>7</td>\n",
              "      <td>5.199670</td>\n",
              "    </tr>\n",
              "    <tr>\n",
              "      <th>...</th>\n",
              "      <td>...</td>\n",
              "      <td>...</td>\n",
              "    </tr>\n",
              "    <tr>\n",
              "      <th>347</th>\n",
              "      <td>1852</td>\n",
              "      <td>5.140045</td>\n",
              "    </tr>\n",
              "    <tr>\n",
              "      <th>348</th>\n",
              "      <td>1855</td>\n",
              "      <td>5.956199</td>\n",
              "    </tr>\n",
              "    <tr>\n",
              "      <th>349</th>\n",
              "      <td>1860</td>\n",
              "      <td>5.670634</td>\n",
              "    </tr>\n",
              "    <tr>\n",
              "      <th>350</th>\n",
              "      <td>1864</td>\n",
              "      <td>6.566129</td>\n",
              "    </tr>\n",
              "    <tr>\n",
              "      <th>351</th>\n",
              "      <td>1868</td>\n",
              "      <td>5.508677</td>\n",
              "    </tr>\n",
              "  </tbody>\n",
              "</table>\n",
              "<p>352 rows × 2 columns</p>\n",
              "</div>"
            ],
            "text/plain": [
              "     user_id        CK\n",
              "0          1  5.120698\n",
              "1          4  5.385555\n",
              "2          5  5.119290\n",
              "3          6  5.835433\n",
              "4          7  5.199670\n",
              "..       ...       ...\n",
              "347     1852  5.140045\n",
              "348     1855  5.956199\n",
              "349     1860  5.670634\n",
              "350     1864  6.566129\n",
              "351     1868  5.508677\n",
              "\n",
              "[352 rows x 2 columns]"
            ]
          },
          "metadata": {
            "tags": []
          },
          "execution_count": 169
        }
      ]
    }
  ]
}